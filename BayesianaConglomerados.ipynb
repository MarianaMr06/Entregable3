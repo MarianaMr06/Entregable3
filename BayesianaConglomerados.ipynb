{
 "cells": [
  {
   "cell_type": "markdown",
   "metadata": {},
   "source": [
    "# Clasificación Bayesiana"
   ]
  },
  {
   "cell_type": "code",
   "execution_count": 1,
   "metadata": {},
   "outputs": [],
   "source": [
    "#Librerías\n",
    "import pandas as pd\n",
    "import matplotlib.pyplot as plt\n",
    "import numpy as np\n",
    "import seaborn as sns\n",
    "from sklearn.feature_extraction.text import TfidfVectorizer #una función más avanzada que vectorizar así nomás\n",
    "from sklearn.naive_bayes import MultinomialNB\n",
    "from sklearn.model_selection import train_test_split\n",
    "from sklearn.ensemble import RandomForestClassifier\n",
    "from sklearn.svm import SVC\n",
    "from sklearn.metrics import roc_curve, roc_auc_score, accuracy_score, confusion_matrix, f1_score, precision_score, recall_score"
   ]
  },
  {
   "cell_type": "code",
   "execution_count": 2,
   "metadata": {},
   "outputs": [
    {
     "name": "stdout",
     "output_type": "stream",
     "text": [
      "<class 'pandas.core.frame.DataFrame'>\n",
      "RangeIndex: 657 entries, 0 to 656\n",
      "Data columns (total 27 columns):\n",
      " #   Column               Non-Null Count  Dtype  \n",
      "---  ------               --------------  -----  \n",
      " 0   Unnamed: 0           657 non-null    int64  \n",
      " 1   Alcaldia             657 non-null    object \n",
      " 2   Colonia              657 non-null    object \n",
      " 3   X1                   657 non-null    float64\n",
      " 4   X2                   657 non-null    float64\n",
      " 5   X3                   657 non-null    float64\n",
      " 6   X4                   657 non-null    float64\n",
      " 7   X5                   657 non-null    float64\n",
      " 8   X6                   657 non-null    float64\n",
      " 9   X7                   657 non-null    float64\n",
      " 10  X8                   657 non-null    float64\n",
      " 11  X9                   657 non-null    float64\n",
      " 12  X10                  657 non-null    float64\n",
      " 13  Cocina_equip         657 non-null    int64  \n",
      " 14  Gimnasio             657 non-null    int64  \n",
      " 15  Amueblado            657 non-null    int64  \n",
      " 16  Alberca              657 non-null    int64  \n",
      " 17  Terraza              657 non-null    int64  \n",
      " 18  Elevador             657 non-null    int64  \n",
      " 19  m2_construido        657 non-null    float64\n",
      " 20  Baños                657 non-null    float64\n",
      " 21  Recamaras            657 non-null    int64  \n",
      " 22  Lugares_estac        657 non-null    int64  \n",
      " 23  Precio_m2            657 non-null    float64\n",
      " 24  Cluster Labels       657 non-null    int64  \n",
      " 25  Conglomerados        657 non-null    object \n",
      " 26  NivelSocioEconomico  657 non-null    object \n",
      "dtypes: float64(13), int64(10), object(4)\n",
      "memory usage: 138.7+ KB\n"
     ]
    }
   ],
   "source": [
    "inmu = pd.read_csv(\"Clusters.csv\")\n",
    "inmu.info()"
   ]
  },
  {
   "cell_type": "code",
   "execution_count": 3,
   "metadata": {},
   "outputs": [],
   "source": [
    "#Definición de variables\n",
    "X = inmu[[\"Cocina_equip\", \"Gimnasio\", \"Amueblado\", \"Alberca\", \"Terraza\", \"Elevador\", \"Baños\", \"Recamaras\", \"Lugares_estac\"]]\n",
    "y = inmu[\"Conglomerados\"]"
   ]
  },
  {
   "cell_type": "code",
   "execution_count": 4,
   "metadata": {},
   "outputs": [],
   "source": [
    "#Sets de prueba\n",
    "X_train, X_test, y_train, y_test = train_test_split(X, y, test_size=0.2, random_state=42)"
   ]
  },
  {
   "cell_type": "code",
   "execution_count": 5,
   "metadata": {},
   "outputs": [],
   "source": [
    "# Clasificadores\n",
    "clasificadores = {\n",
    "    'Naive Bayes Multinomial': MultinomialNB(),\n",
    "}"
   ]
  },
  {
   "cell_type": "code",
   "execution_count": 6,
   "metadata": {},
   "outputs": [
    {
     "name": "stderr",
     "output_type": "stream",
     "text": [
      "c:\\Users\\maria\\AppData\\Local\\Programs\\Python\\Python311\\Lib\\site-packages\\sklearn\\metrics\\_classification.py:1469: UndefinedMetricWarning: Precision is ill-defined and being set to 0.0 in labels with no predicted samples. Use `zero_division` parameter to control this behavior.\n",
      "  _warn_prf(average, modifier, msg_start, len(result))\n"
     ]
    }
   ],
   "source": [
    "# Entrenamiento y evaluación clasificadores\n",
    "results = {}\n",
    "\n",
    "for name, clf in clasificadores.items():\n",
    "    clf.fit(X_train, y_train)\n",
    "    y_pred = clf.predict(X_test)\n",
    "    \n",
    "    accuracy = accuracy_score(y_test, y_pred)\n",
    "    f1 = f1_score(y_test, y_pred, average='weighted') \n",
    "    precision = precision_score(y_test, y_pred, average='weighted')\n",
    "    recall = recall_score(y_test, y_pred, average='weighted')\n",
    "    \n",
    "    results[name] = {\n",
    "        'Accuracy': accuracy,\n",
    "        'F1 Score': f1,\n",
    "        'Precision': precision,\n",
    "        'Recall (Sensibilidad)': recall\n",
    "    }\n"
   ]
  },
  {
   "cell_type": "code",
   "execution_count": 7,
   "metadata": {},
   "outputs": [
    {
     "name": "stdout",
     "output_type": "stream",
     "text": [
      "Comparación de Métricas:\n",
      "Clasificador: Naive Bayes Multinomial\n",
      "Exactitud: 0.67\n",
      "Puntaje F1: 0.62\n",
      "Precisión: 0.58\n",
      "Sensibilidad (Recall): 0.67\n",
      "\n",
      "\n"
     ]
    }
   ],
   "source": [
    "# Ver los resultados de exactitud, puntaje F1, precisión y sensibilidad\n",
    "print(\"Comparación de Métricas:\")\n",
    "for name, metrics in results.items():\n",
    "    print(f\"Clasificador: {name}\")\n",
    "    print(f\"Exactitud: {metrics['Accuracy']:.2f}\")\n",
    "    print(f\"Puntaje F1: {metrics['F1 Score']:.2f}\")\n",
    "    print(f\"Precisión: {metrics['Precision']:.2f}\")\n",
    "    print(f\"Sensibilidad (Recall): {metrics['Recall (Sensibilidad)']:.2f}\")\n",
    "    print(\"\\n\")"
   ]
  },
  {
   "cell_type": "code",
   "execution_count": 8,
   "metadata": {},
   "outputs": [
    {
     "data": {
      "image/png": "[encoded data removed]",
      "text/plain": [
       "<Figure size 640x480 with 2 Axes>"
      ]
     },
     "metadata": {},
     "output_type": "display_data"
    }
   ],
   "source": [
    "#Matriz de Confusión\n",
    "clasificadores = {\n",
    "    'Naive Bayes Multinomial': MultinomialNB(),\n",
    "}\n",
    "\n",
    "for name, clf in clasificadores.items():\n",
    "    clf.fit(X_train, y_train)\n",
    "    y_pred = clf.predict(X_test)\n",
    "    cm = confusion_matrix(y_test, y_pred)\n",
    "    plt.figure()\n",
    "    sns.heatmap(cm, annot=True, fmt='d', cmap='Blues')\n",
    "    plt.title(f'Matriz de confusión - {name}')\n",
    "    plt.show()"
   ]
  },
  {
   "cell_type": "code",
   "execution_count": 9,
   "metadata": {},
   "outputs": [],
   "source": [
    "#Predicciones función\n",
    "def predict_class_and_probabilities(nuevosDatos): \n",
    "    \n",
    "    class_probabilities = clf.predict_proba([nuevosDatos])\n",
    "\n",
    "    \n",
    "    for class_idx, prob in enumerate(class_probabilities[0]):\n",
    "        print(f'Probabilidad por clase {class_idx}: {prob:.4f}')\n",
    "\n",
    "    \n",
    "    predicted_class = clf.predict([nuevosDatos])[0]\n",
    "    print(f'Clase Predicha: {predicted_class}')"
   ]
  },
  {
   "cell_type": "code",
   "execution_count": 10,
   "metadata": {},
   "outputs": [
    {
     "data": {
      "text/html": [
       "<div>\n",
       "<style scoped>\n",
       "    .dataframe tbody tr th:only-of-type {\n",
       "        vertical-align: middle;\n",
       "    }\n",
       "\n",
       "    .dataframe tbody tr th {\n",
       "        vertical-align: top;\n",
       "    }\n",
       "\n",
       "    .dataframe thead th {\n",
       "        text-align: right;\n",
       "    }\n",
       "</style>\n",
       "<table border=\"1\" class=\"dataframe\">\n",
       "  <thead>\n",
       "    <tr style=\"text-align: right;\">\n",
       "      <th></th>\n",
       "      <th>Cocina_equip</th>\n",
       "      <th>Gimnasio</th>\n",
       "      <th>Amueblado</th>\n",
       "      <th>Alberca</th>\n",
       "      <th>Terraza</th>\n",
       "      <th>Elevador</th>\n",
       "      <th>Baños</th>\n",
       "      <th>Recamaras</th>\n",
       "      <th>Lugares_estac</th>\n",
       "    </tr>\n",
       "  </thead>\n",
       "  <tbody>\n",
       "    <tr>\n",
       "      <th>0</th>\n",
       "      <td>1</td>\n",
       "      <td>1</td>\n",
       "      <td>0</td>\n",
       "      <td>0</td>\n",
       "      <td>1</td>\n",
       "      <td>1</td>\n",
       "      <td>2.0</td>\n",
       "      <td>3</td>\n",
       "      <td>2</td>\n",
       "    </tr>\n",
       "    <tr>\n",
       "      <th>1</th>\n",
       "      <td>1</td>\n",
       "      <td>0</td>\n",
       "      <td>0</td>\n",
       "      <td>0</td>\n",
       "      <td>0</td>\n",
       "      <td>0</td>\n",
       "      <td>1.0</td>\n",
       "      <td>2</td>\n",
       "      <td>1</td>\n",
       "    </tr>\n",
       "    <tr>\n",
       "      <th>2</th>\n",
       "      <td>1</td>\n",
       "      <td>1</td>\n",
       "      <td>0</td>\n",
       "      <td>0</td>\n",
       "      <td>1</td>\n",
       "      <td>1</td>\n",
       "      <td>3.0</td>\n",
       "      <td>3</td>\n",
       "      <td>3</td>\n",
       "    </tr>\n",
       "    <tr>\n",
       "      <th>3</th>\n",
       "      <td>0</td>\n",
       "      <td>0</td>\n",
       "      <td>0</td>\n",
       "      <td>0</td>\n",
       "      <td>0</td>\n",
       "      <td>0</td>\n",
       "      <td>1.0</td>\n",
       "      <td>2</td>\n",
       "      <td>1</td>\n",
       "    </tr>\n",
       "    <tr>\n",
       "      <th>4</th>\n",
       "      <td>0</td>\n",
       "      <td>0</td>\n",
       "      <td>0</td>\n",
       "      <td>0</td>\n",
       "      <td>0</td>\n",
       "      <td>0</td>\n",
       "      <td>1.0</td>\n",
       "      <td>2</td>\n",
       "      <td>1</td>\n",
       "    </tr>\n",
       "  </tbody>\n",
       "</table>\n",
       "</div>"
      ],
      "text/plain": [
       "   Cocina_equip  Gimnasio  Amueblado  Alberca  Terraza  Elevador  Baños  \\\n",
       "0             1         1          0        0        1         1    2.0   \n",
       "1             1         0          0        0        0         0    1.0   \n",
       "2             1         1          0        0        1         1    3.0   \n",
       "3             0         0          0        0        0         0    1.0   \n",
       "4             0         0          0        0        0         0    1.0   \n",
       "\n",
       "   Recamaras  Lugares_estac  \n",
       "0          3              2  \n",
       "1          2              1  \n",
       "2          3              3  \n",
       "3          2              1  \n",
       "4          2              1  "
      ]
     },
     "execution_count": 10,
     "metadata": {},
     "output_type": "execute_result"
    }
   ],
   "source": [
    "#Observamos X para ingresar datos\n",
    "X.head()"
   ]
  },
  {
   "cell_type": "code",
   "execution_count": 11,
   "metadata": {},
   "outputs": [
    {
     "name": "stdout",
     "output_type": "stream",
     "text": [
      "Probabilidad por clase 0: 0.0285\n",
      "Probabilidad por clase 1: 0.3180\n",
      "Probabilidad por clase 2: 0.5845\n",
      "Probabilidad por clase 3: 0.0690\n",
      "Clase Predicha: MedioAlto\n"
     ]
    },
    {
     "name": "stderr",
     "output_type": "stream",
     "text": [
      "c:\\Users\\maria\\AppData\\Local\\Programs\\Python\\Python311\\Lib\\site-packages\\sklearn\\base.py:465: UserWarning: X does not have valid feature names, but MultinomialNB was fitted with feature names\n",
      "  warnings.warn(\n",
      "c:\\Users\\maria\\AppData\\Local\\Programs\\Python\\Python311\\Lib\\site-packages\\sklearn\\base.py:465: UserWarning: X does not have valid feature names, but MultinomialNB was fitted with feature names\n",
      "  warnings.warn(\n"
     ]
    }
   ],
   "source": [
    "#Ejemplo de predicción\n",
    "ejemplo = [1, 0, 0, 1, 1, 1, 3, 3, 2]\n",
    "predict_class_and_probabilities(ejemplo)"
   ]
  }
 ],
 "metadata": {
  "kernelspec": {
   "display_name": "Python 3",
   "language": "python",
   "name": "python3"
  },
  "language_info": {
   "codemirror_mode": {
    "name": "ipython",
    "version": 3
   },
   "file_extension": ".py",
   "mimetype": "text/x-python",
   "name": "python",
   "nbconvert_exporter": "python",
   "pygments_lexer": "ipython3",
   "version": "3.11.4"
  }
 },
 "nbformat": 4,
 "nbformat_minor": 2
}
